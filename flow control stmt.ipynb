{
 "cells": [
  {
   "cell_type": "code",
   "execution_count": 1,
   "id": "8ee5c334",
   "metadata": {},
   "outputs": [
    {
     "name": "stdout",
     "output_type": "stream",
     "text": [
      "0 is equal to zero\n"
     ]
    }
   ],
   "source": [
    "a=0\n",
    "if a<0:\n",
    "    print(a,'is less than zero')\n",
    "elif a>0:\n",
    "    print(a,'is greater than zero')\n",
    "else:\n",
    "    print(a,'is equal to zero')"
   ]
  },
  {
   "cell_type": "code",
   "execution_count": 3,
   "id": "a050b5f4",
   "metadata": {},
   "outputs": [
    {
     "name": "stdout",
     "output_type": "stream",
     "text": [
      "enter the numbers3 5 1\n"
     ]
    }
   ],
   "source": [
    "a,b,c=map(int,input('enter the numbers').split(\" \"))"
   ]
  },
  {
   "cell_type": "code",
   "execution_count": 4,
   "id": "fdc769e8",
   "metadata": {},
   "outputs": [
    {
     "data": {
      "text/plain": [
       "(3, 5, 1)"
      ]
     },
     "execution_count": 4,
     "metadata": {},
     "output_type": "execute_result"
    }
   ],
   "source": [
    "a,b,c"
   ]
  },
  {
   "cell_type": "code",
   "execution_count": 8,
   "id": "f491c716",
   "metadata": {},
   "outputs": [
    {
     "name": "stdout",
     "output_type": "stream",
     "text": [
      "enter the numbers10 5 34\n",
      "34 is the greatest\n"
     ]
    }
   ],
   "source": [
    "a,b,c=map(int,input('enter the numbers').split(\" \"))\n",
    "if (a>b):\n",
    "    if a>c:\n",
    "        print(a,'is the greatest')\n",
    "    else:\n",
    "        print(c,'is the greatest')\n",
    "elif c>b:\n",
    "    print(c,'is the greatest')\n",
    "else:\n",
    "    print(b,'is the greatest')"
   ]
  },
  {
   "cell_type": "markdown",
   "id": "6db1fe3d",
   "metadata": {},
   "source": [
    "# loops"
   ]
  },
  {
   "cell_type": "code",
   "execution_count": 12,
   "id": "843d6904",
   "metadata": {},
   "outputs": [
    {
     "name": "stdout",
     "output_type": "stream",
     "text": [
      "5050\n"
     ]
    }
   ],
   "source": [
    "n =100\n",
    "i =1\n",
    "sum =0\n",
    "\n",
    "while(i<=n):\n",
    "    sum+=i\n",
    "    i+=1\n",
    "    \n",
    "print(sum)"
   ]
  },
  {
   "cell_type": "markdown",
   "id": "0b4a544d",
   "metadata": {},
   "source": [
    "# add 1st 10 odd nos"
   ]
  },
  {
   "cell_type": "code",
   "execution_count": 15,
   "id": "9b9fb71e",
   "metadata": {},
   "outputs": [
    {
     "name": "stdout",
     "output_type": "stream",
     "text": [
      "100\n"
     ]
    }
   ],
   "source": [
    "n=19\n",
    "i =1\n",
    "sum =0\n",
    "\n",
    "while(i<=n):\n",
    "    sum+=i\n",
    "    i+=2\n",
    "    \n",
    "    \n",
    "print(sum)"
   ]
  },
  {
   "cell_type": "code",
   "execution_count": 16,
   "id": "302754bd",
   "metadata": {},
   "outputs": [
    {
     "name": "stdout",
     "output_type": "stream",
     "text": [
      "addition is 55\n"
     ]
    }
   ],
   "source": [
    "number = range(1,11)\n",
    "add=0\n",
    "for i in number:\n",
    "    add= add+i\n",
    "    \n",
    "print(\"addition is\", add)"
   ]
  },
  {
   "cell_type": "code",
   "execution_count": null,
   "id": "c757d8a8",
   "metadata": {},
   "outputs": [],
   "source": []
  }
 ],
 "metadata": {
  "kernelspec": {
   "display_name": "Python 3",
   "language": "python",
   "name": "python3"
  },
  "language_info": {
   "codemirror_mode": {
    "name": "ipython",
    "version": 3
   },
   "file_extension": ".py",
   "mimetype": "text/x-python",
   "name": "python",
   "nbconvert_exporter": "python",
   "pygments_lexer": "ipython3",
   "version": "3.8.8"
  }
 },
 "nbformat": 4,
 "nbformat_minor": 5
}
