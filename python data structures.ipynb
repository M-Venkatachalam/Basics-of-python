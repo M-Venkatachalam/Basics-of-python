{
 "cells": [
  {
   "cell_type": "markdown",
   "id": "c05f9d06",
   "metadata": {},
   "source": [
    "# string indexing and slicing"
   ]
  },
  {
   "cell_type": "code",
   "execution_count": 1,
   "id": "8d98b0ec",
   "metadata": {},
   "outputs": [
    {
     "ename": "IndexError",
     "evalue": "string index out of range",
     "output_type": "error",
     "traceback": [
      "\u001b[1;31m---------------------------------------------------------------------------\u001b[0m",
      "\u001b[1;31mIndexError\u001b[0m                                Traceback (most recent call last)",
      "\u001b[1;32m<ipython-input-1-c54a1979cdeb>\u001b[0m in \u001b[0;36m<module>\u001b[1;34m\u001b[0m\n\u001b[0;32m      1\u001b[0m \u001b[0mtext\u001b[0m \u001b[1;33m=\u001b[0m \u001b[1;34m'i like mangoes'\u001b[0m\u001b[1;33m\u001b[0m\u001b[1;33m\u001b[0m\u001b[0m\n\u001b[1;32m----> 2\u001b[1;33m \u001b[0mtext\u001b[0m\u001b[1;33m[\u001b[0m\u001b[1;36m25\u001b[0m\u001b[1;33m]\u001b[0m\u001b[1;33m\u001b[0m\u001b[1;33m\u001b[0m\u001b[0m\n\u001b[0m",
      "\u001b[1;31mIndexError\u001b[0m: string index out of range"
     ]
    }
   ],
   "source": [
    "text = 'i like mangoes'\n",
    "text[25]"
   ]
  },
  {
   "cell_type": "code",
   "execution_count": 2,
   "id": "97a84a50",
   "metadata": {},
   "outputs": [
    {
     "name": "stdout",
     "output_type": "stream",
     "text": [
      "i\n"
     ]
    }
   ],
   "source": [
    "print(text[0])"
   ]
  },
  {
   "cell_type": "code",
   "execution_count": 3,
   "id": "7cc2ddc3",
   "metadata": {},
   "outputs": [
    {
     "name": "stdout",
     "output_type": "stream",
     "text": [
      "i like mangoes\n"
     ]
    }
   ],
   "source": [
    "print(text[:])"
   ]
  },
  {
   "cell_type": "code",
   "execution_count": 4,
   "id": "738adfe9",
   "metadata": {},
   "outputs": [
    {
     "name": "stdout",
     "output_type": "stream",
     "text": [
      "i like mangoes\n"
     ]
    }
   ],
   "source": [
    "print(text[:len(text)])"
   ]
  },
  {
   "cell_type": "code",
   "execution_count": 5,
   "id": "9aaec2f5",
   "metadata": {},
   "outputs": [
    {
     "data": {
      "text/plain": [
       "'i like mangoes'"
      ]
     },
     "execution_count": 5,
     "metadata": {},
     "output_type": "execute_result"
    }
   ],
   "source": [
    "text[::1]"
   ]
  },
  {
   "cell_type": "code",
   "execution_count": 6,
   "id": "7f63834f",
   "metadata": {},
   "outputs": [
    {
     "data": {
      "text/plain": [
       "'seognam ekil i'"
      ]
     },
     "execution_count": 6,
     "metadata": {},
     "output_type": "execute_result"
    }
   ],
   "source": [
    "text[::-1]"
   ]
  },
  {
   "cell_type": "code",
   "execution_count": 8,
   "id": "350cd656",
   "metadata": {},
   "outputs": [
    {
     "data": {
      "text/plain": [
       "'like mangoes'"
      ]
     },
     "execution_count": 8,
     "metadata": {},
     "output_type": "execute_result"
    }
   ],
   "source": [
    "text[2:]"
   ]
  },
  {
   "cell_type": "code",
   "execution_count": 10,
   "id": "56c46521",
   "metadata": {},
   "outputs": [
    {
     "data": {
      "text/plain": [
       "'e'"
      ]
     },
     "execution_count": 10,
     "metadata": {},
     "output_type": "execute_result"
    }
   ],
   "source": [
    "text[-2]"
   ]
  },
  {
   "cell_type": "markdown",
   "id": "404be1af",
   "metadata": {},
   "source": [
    "# string operations"
   ]
  },
  {
   "cell_type": "code",
   "execution_count": 11,
   "id": "f56ae20f",
   "metadata": {},
   "outputs": [
    {
     "data": {
      "text/plain": [
       "\"Monday is doom's day\""
      ]
     },
     "execution_count": 11,
     "metadata": {},
     "output_type": "execute_result"
    }
   ],
   "source": [
    "msg = 'Friday is doom\\'s day'\n",
    "msg.replace('Friday','Monday')\n"
   ]
  },
  {
   "cell_type": "code",
   "execution_count": 12,
   "id": "4a7178b2",
   "metadata": {},
   "outputs": [
    {
     "data": {
      "text/plain": [
       "\"Friday is doom's day\""
      ]
     },
     "execution_count": 12,
     "metadata": {},
     "output_type": "execute_result"
    }
   ],
   "source": [
    "msg\n"
   ]
  },
  {
   "cell_type": "code",
   "execution_count": 13,
   "id": "14a56d88",
   "metadata": {},
   "outputs": [
    {
     "data": {
      "text/plain": [
       "\"Friday Is Doom'S Day\""
      ]
     },
     "execution_count": 13,
     "metadata": {},
     "output_type": "execute_result"
    }
   ],
   "source": [
    "msg.title()"
   ]
  },
  {
   "cell_type": "code",
   "execution_count": 14,
   "id": "900724ba",
   "metadata": {},
   "outputs": [
    {
     "data": {
      "text/plain": [
       "\"friday is doom's day\""
      ]
     },
     "execution_count": 14,
     "metadata": {},
     "output_type": "execute_result"
    }
   ],
   "source": [
    "msg.lower()\n"
   ]
  },
  {
   "cell_type": "code",
   "execution_count": 15,
   "id": "c2b4112a",
   "metadata": {},
   "outputs": [
    {
     "data": {
      "text/plain": [
       "\"FRIDAY IS DOOM'S DAY\""
      ]
     },
     "execution_count": 15,
     "metadata": {},
     "output_type": "execute_result"
    }
   ],
   "source": [
    "msg.upper()"
   ]
  },
  {
   "cell_type": "code",
   "execution_count": 19,
   "id": "3c932956",
   "metadata": {},
   "outputs": [
    {
     "name": "stdout",
     "output_type": "stream",
     "text": [
      "1-10-2021\n",
      "1/10/2021\n"
     ]
    }
   ],
   "source": [
    "date = '1','10','2021'\n",
    "sep='-'\n",
    "print(sep.join(date))\n",
    "print(\"/\".join(date))"
   ]
  },
  {
   "cell_type": "code",
   "execution_count": 20,
   "id": "7f47dcef",
   "metadata": {},
   "outputs": [
    {
     "data": {
      "text/plain": [
       "'Python is easier'"
      ]
     },
     "execution_count": 20,
     "metadata": {},
     "output_type": "execute_result"
    }
   ],
   "source": [
    "t1 = \"***Python is easier****\"\n",
    "t1.strip(\"*\")"
   ]
  },
  {
   "cell_type": "code",
   "execution_count": 21,
   "id": "64526b59",
   "metadata": {},
   "outputs": [
    {
     "data": {
      "text/plain": [
       "'***Python is easier'"
      ]
     },
     "execution_count": 21,
     "metadata": {},
     "output_type": "execute_result"
    }
   ],
   "source": [
    "t1.rstrip(\"*\")"
   ]
  },
  {
   "cell_type": "code",
   "execution_count": 22,
   "id": "f5d42b28",
   "metadata": {},
   "outputs": [
    {
     "data": {
      "text/plain": [
       "'Python is easier****'"
      ]
     },
     "execution_count": 22,
     "metadata": {},
     "output_type": "execute_result"
    }
   ],
   "source": [
    "t1.lstrip('*')"
   ]
  },
  {
   "cell_type": "markdown",
   "id": "511f9b3a",
   "metadata": {},
   "source": [
    "# LIST"
   ]
  },
  {
   "cell_type": "code",
   "execution_count": 23,
   "id": "67904d8c",
   "metadata": {},
   "outputs": [],
   "source": [
    "list1 = [1,2,3]"
   ]
  },
  {
   "cell_type": "code",
   "execution_count": 25,
   "id": "9874f29c",
   "metadata": {},
   "outputs": [],
   "source": [
    "list1=['a','b',10.1,5,True]"
   ]
  },
  {
   "cell_type": "markdown",
   "id": "4040f4b3",
   "metadata": {},
   "source": [
    "### list is heterogenous"
   ]
  },
  {
   "cell_type": "code",
   "execution_count": 27,
   "id": "14fef289",
   "metadata": {},
   "outputs": [],
   "source": [
    "list2= [1,1,1,1,1,5]\n"
   ]
  },
  {
   "cell_type": "code",
   "execution_count": 28,
   "id": "afcda0f7",
   "metadata": {},
   "outputs": [
    {
     "data": {
      "text/plain": [
       "[1, 1, 1, 1, 1, 5]"
      ]
     },
     "execution_count": 28,
     "metadata": {},
     "output_type": "execute_result"
    }
   ],
   "source": [
    "list2"
   ]
  },
  {
   "cell_type": "markdown",
   "id": "ddd3d501",
   "metadata": {},
   "source": [
    "### list allows duplicates"
   ]
  },
  {
   "cell_type": "code",
   "execution_count": 29,
   "id": "a63a1376",
   "metadata": {},
   "outputs": [],
   "source": [
    "list1[0] = 25"
   ]
  },
  {
   "cell_type": "code",
   "execution_count": 31,
   "id": "1122f09d",
   "metadata": {},
   "outputs": [
    {
     "data": {
      "text/plain": [
       "[25, 'b', 10.1, 5, True]"
      ]
     },
     "execution_count": 31,
     "metadata": {},
     "output_type": "execute_result"
    }
   ],
   "source": [
    "list1"
   ]
  },
  {
   "cell_type": "markdown",
   "id": "03a7be59",
   "metadata": {},
   "source": [
    "### list is mutable"
   ]
  },
  {
   "cell_type": "code",
   "execution_count": 43,
   "id": "f85490a7",
   "metadata": {},
   "outputs": [
    {
     "name": "stdout",
     "output_type": "stream",
     "text": [
      "[1, 2, 4]\n",
      "[4, 1, 2]\n"
     ]
    }
   ],
   "source": [
    "a=[4,1,2]\n",
    "print(sorted(a))\n",
    "print(a)\n",
    "\n"
   ]
  },
  {
   "cell_type": "code",
   "execution_count": 44,
   "id": "bf323092",
   "metadata": {},
   "outputs": [],
   "source": [
    "a.sort()"
   ]
  },
  {
   "cell_type": "code",
   "execution_count": 45,
   "id": "297a00ae",
   "metadata": {},
   "outputs": [
    {
     "data": {
      "text/plain": [
       "[1, 2, 4]"
      ]
     },
     "execution_count": 45,
     "metadata": {},
     "output_type": "execute_result"
    }
   ],
   "source": [
    "a"
   ]
  },
  {
   "cell_type": "code",
   "execution_count": 48,
   "id": "485219b2",
   "metadata": {},
   "outputs": [
    {
     "data": {
      "text/plain": [
       "[1, 2, 4]"
      ]
     },
     "execution_count": 48,
     "metadata": {},
     "output_type": "execute_result"
    }
   ],
   "source": [
    "sorted(a)\n"
   ]
  },
  {
   "cell_type": "code",
   "execution_count": 49,
   "id": "15fdf405",
   "metadata": {},
   "outputs": [
    {
     "data": {
      "text/plain": [
       "4"
      ]
     },
     "execution_count": 49,
     "metadata": {},
     "output_type": "execute_result"
    }
   ],
   "source": [
    "a.pop(2)"
   ]
  },
  {
   "cell_type": "code",
   "execution_count": 50,
   "id": "9df030d8",
   "metadata": {},
   "outputs": [
    {
     "data": {
      "text/plain": [
       "2"
      ]
     },
     "execution_count": 50,
     "metadata": {},
     "output_type": "execute_result"
    }
   ],
   "source": [
    "len(a)"
   ]
  },
  {
   "cell_type": "code",
   "execution_count": 52,
   "id": "7255f64d",
   "metadata": {},
   "outputs": [
    {
     "data": {
      "text/plain": [
       "(2, 1)"
      ]
     },
     "execution_count": 52,
     "metadata": {},
     "output_type": "execute_result"
    }
   ],
   "source": [
    "max(a),min(a)"
   ]
  },
  {
   "cell_type": "code",
   "execution_count": 53,
   "id": "24105cca",
   "metadata": {},
   "outputs": [
    {
     "data": {
      "text/plain": [
       "2"
      ]
     },
     "execution_count": 53,
     "metadata": {},
     "output_type": "execute_result"
    }
   ],
   "source": [
    "max(a)"
   ]
  },
  {
   "cell_type": "code",
   "execution_count": 54,
   "id": "a4e3f208",
   "metadata": {},
   "outputs": [],
   "source": [
    "scores = [80, 75, 60, 90]"
   ]
  },
  {
   "cell_type": "code",
   "execution_count": 55,
   "id": "e5d651f8",
   "metadata": {},
   "outputs": [],
   "source": [
    "scores.remove(75)"
   ]
  },
  {
   "cell_type": "code",
   "execution_count": 56,
   "id": "4770cb1d",
   "metadata": {},
   "outputs": [
    {
     "data": {
      "text/plain": [
       "[80, 60, 90]"
      ]
     },
     "execution_count": 56,
     "metadata": {},
     "output_type": "execute_result"
    }
   ],
   "source": [
    "scores\n"
   ]
  },
  {
   "cell_type": "code",
   "execution_count": 57,
   "id": "051c21ee",
   "metadata": {},
   "outputs": [],
   "source": [
    "scores.append(70)"
   ]
  },
  {
   "cell_type": "code",
   "execution_count": 58,
   "id": "11c698d8",
   "metadata": {},
   "outputs": [],
   "source": [
    "scores.append(85)"
   ]
  },
  {
   "cell_type": "code",
   "execution_count": 59,
   "id": "ee1c142b",
   "metadata": {},
   "outputs": [],
   "source": [
    "scores.append(20)"
   ]
  },
  {
   "cell_type": "code",
   "execution_count": 60,
   "id": "aa704fb0",
   "metadata": {},
   "outputs": [],
   "source": [
    "scores.append(75)"
   ]
  },
  {
   "cell_type": "code",
   "execution_count": 61,
   "id": "846d2656",
   "metadata": {},
   "outputs": [
    {
     "data": {
      "text/plain": [
       "[80, 60, 90, 70, 85, 20, 75]"
      ]
     },
     "execution_count": 61,
     "metadata": {},
     "output_type": "execute_result"
    }
   ],
   "source": [
    "scores\n"
   ]
  },
  {
   "cell_type": "code",
   "execution_count": 62,
   "id": "fdd02bce",
   "metadata": {},
   "outputs": [
    {
     "ename": "NameError",
     "evalue": "name 'score' is not defined",
     "output_type": "error",
     "traceback": [
      "\u001b[1;31m---------------------------------------------------------------------------\u001b[0m",
      "\u001b[1;31mNameError\u001b[0m                                 Traceback (most recent call last)",
      "\u001b[1;32m<ipython-input-62-58d5657a06f9>\u001b[0m in \u001b[0;36m<module>\u001b[1;34m\u001b[0m\n\u001b[1;32m----> 1\u001b[1;33m \u001b[0mscore\u001b[0m\u001b[1;33m.\u001b[0m\u001b[0msort\u001b[0m\u001b[1;33m(\u001b[0m\u001b[0mreverse\u001b[0m \u001b[1;33m=\u001b[0m \u001b[1;32mTrue\u001b[0m\u001b[1;33m)\u001b[0m\u001b[1;33m\u001b[0m\u001b[1;33m\u001b[0m\u001b[0m\n\u001b[0m",
      "\u001b[1;31mNameError\u001b[0m: name 'score' is not defined"
     ]
    }
   ],
   "source": [
    "score.sort(reverse = True)"
   ]
  },
  {
   "cell_type": "code",
   "execution_count": 63,
   "id": "6ba20e24",
   "metadata": {},
   "outputs": [],
   "source": [
    "scores.sort(reverse = True)"
   ]
  },
  {
   "cell_type": "code",
   "execution_count": 64,
   "id": "412c22df",
   "metadata": {},
   "outputs": [
    {
     "data": {
      "text/plain": [
       "[90, 85, 80, 75, 70, 60, 20]"
      ]
     },
     "execution_count": 64,
     "metadata": {},
     "output_type": "execute_result"
    }
   ],
   "source": [
    "scores"
   ]
  },
  {
   "cell_type": "code",
   "execution_count": 65,
   "id": "d6bdd3bc",
   "metadata": {},
   "outputs": [],
   "source": [
    "scores.sort()"
   ]
  },
  {
   "cell_type": "code",
   "execution_count": 66,
   "id": "b70cac80",
   "metadata": {},
   "outputs": [
    {
     "data": {
      "text/plain": [
       "[20, 60, 70, 75, 80, 85, 90]"
      ]
     },
     "execution_count": 66,
     "metadata": {},
     "output_type": "execute_result"
    }
   ],
   "source": [
    "scores"
   ]
  },
  {
   "cell_type": "code",
   "execution_count": 68,
   "id": "bff927f2",
   "metadata": {},
   "outputs": [],
   "source": [
    "scores.sort(reverse = True)"
   ]
  },
  {
   "cell_type": "code",
   "execution_count": 69,
   "id": "0b06fc33",
   "metadata": {},
   "outputs": [
    {
     "data": {
      "text/plain": [
       "[90, 85, 80, 75, 70, 60, 20]"
      ]
     },
     "execution_count": 69,
     "metadata": {},
     "output_type": "execute_result"
    }
   ],
   "source": [
    "scores"
   ]
  },
  {
   "cell_type": "code",
   "execution_count": 70,
   "id": "568f3050",
   "metadata": {},
   "outputs": [
    {
     "data": {
      "text/plain": [
       "[80, 75, 70, 60]"
      ]
     },
     "execution_count": 70,
     "metadata": {},
     "output_type": "execute_result"
    }
   ],
   "source": [
    "scores[2:-1]"
   ]
  },
  {
   "cell_type": "code",
   "execution_count": 71,
   "id": "17de7d41",
   "metadata": {},
   "outputs": [],
   "source": [
    "##negative indexing also doesn't include last value"
   ]
  },
  {
   "cell_type": "markdown",
   "id": "56caa3e0",
   "metadata": {},
   "source": [
    "# TUPLES"
   ]
  },
  {
   "cell_type": "code",
   "execution_count": 72,
   "id": "0451914c",
   "metadata": {},
   "outputs": [],
   "source": [
    "# tuples are immutable\n",
    "# paranthesis - optional\n",
    "# same as list in many ways\n",
    "# heterogenous\n",
    "# difference is \n",
    "#1. tuples syntax\n",
    "#2. tuples are faster\n",
    "#3. immutability - an element cannot be added/deleted/updated\n",
    "#4. sort fn not available in tuples\n",
    "\n"
   ]
  },
  {
   "cell_type": "code",
   "execution_count": 73,
   "id": "0ba96dc0",
   "metadata": {},
   "outputs": [
    {
     "data": {
      "text/plain": [
       "('SSV', 'AKM', 'Rajbrid', 'Hyto')"
      ]
     },
     "execution_count": 73,
     "metadata": {},
     "output_type": "execute_result"
    }
   ],
   "source": [
    "# tuples indexing\n",
    "\n",
    "restaurant = 'SSV', 'AKM', 'Rajbrid', 'Hyto'\n",
    "restaurant[:]"
   ]
  },
  {
   "cell_type": "code",
   "execution_count": 74,
   "id": "5f47cb55",
   "metadata": {},
   "outputs": [
    {
     "data": {
      "text/plain": [
       "('SSV', 'AKM', 'Rajbrid')"
      ]
     },
     "execution_count": 74,
     "metadata": {},
     "output_type": "execute_result"
    }
   ],
   "source": [
    "restaurant[0:3]"
   ]
  },
  {
   "cell_type": "code",
   "execution_count": 76,
   "id": "c0c15eb2",
   "metadata": {},
   "outputs": [
    {
     "data": {
      "text/plain": [
       "('Hyto',)"
      ]
     },
     "execution_count": 76,
     "metadata": {},
     "output_type": "execute_result"
    }
   ],
   "source": [
    "restaurant[-1:]"
   ]
  },
  {
   "cell_type": "code",
   "execution_count": 77,
   "id": "a35bdba0",
   "metadata": {},
   "outputs": [],
   "source": [
    "# Sorted fn can be used to sort tuples\n",
    "# but it return only a list \n",
    "\n",
    "a = 10, 4, 12, 9"
   ]
  },
  {
   "cell_type": "code",
   "execution_count": 78,
   "id": "91378f4f",
   "metadata": {},
   "outputs": [
    {
     "data": {
      "text/plain": [
       "tuple"
      ]
     },
     "execution_count": 78,
     "metadata": {},
     "output_type": "execute_result"
    }
   ],
   "source": [
    "type(a)"
   ]
  },
  {
   "cell_type": "code",
   "execution_count": 79,
   "id": "d6b19801",
   "metadata": {},
   "outputs": [
    {
     "ename": "NameError",
     "evalue": "name 'sort' is not defined",
     "output_type": "error",
     "traceback": [
      "\u001b[1;31m---------------------------------------------------------------------------\u001b[0m",
      "\u001b[1;31mNameError\u001b[0m                                 Traceback (most recent call last)",
      "\u001b[1;32m<ipython-input-79-67042e5da92b>\u001b[0m in \u001b[0;36m<module>\u001b[1;34m\u001b[0m\n\u001b[1;32m----> 1\u001b[1;33m \u001b[0mprint\u001b[0m\u001b[1;33m(\u001b[0m\u001b[0msort\u001b[0m\u001b[1;33m(\u001b[0m\u001b[0ma\u001b[0m\u001b[1;33m)\u001b[0m\u001b[1;33m)\u001b[0m\u001b[1;33m\u001b[0m\u001b[1;33m\u001b[0m\u001b[0m\n\u001b[0m",
      "\u001b[1;31mNameError\u001b[0m: name 'sort' is not defined"
     ]
    }
   ],
   "source": [
    "print(sort(a))"
   ]
  },
  {
   "cell_type": "code",
   "execution_count": 80,
   "id": "3e63933b",
   "metadata": {},
   "outputs": [
    {
     "ename": "AttributeError",
     "evalue": "'tuple' object has no attribute 'sort'",
     "output_type": "error",
     "traceback": [
      "\u001b[1;31m---------------------------------------------------------------------------\u001b[0m",
      "\u001b[1;31mAttributeError\u001b[0m                            Traceback (most recent call last)",
      "\u001b[1;32m<ipython-input-80-2b4d38b9ddf2>\u001b[0m in \u001b[0;36m<module>\u001b[1;34m\u001b[0m\n\u001b[1;32m----> 1\u001b[1;33m \u001b[0mprint\u001b[0m\u001b[1;33m(\u001b[0m\u001b[0ma\u001b[0m\u001b[1;33m.\u001b[0m\u001b[0msort\u001b[0m\u001b[1;33m(\u001b[0m\u001b[1;33m)\u001b[0m\u001b[1;33m)\u001b[0m\u001b[1;33m\u001b[0m\u001b[1;33m\u001b[0m\u001b[0m\n\u001b[0m",
      "\u001b[1;31mAttributeError\u001b[0m: 'tuple' object has no attribute 'sort'"
     ]
    }
   ],
   "source": [
    "print(a.sort())"
   ]
  },
  {
   "cell_type": "code",
   "execution_count": 81,
   "id": "a32f3593",
   "metadata": {},
   "outputs": [
    {
     "name": "stdout",
     "output_type": "stream",
     "text": [
      "[4, 9, 10, 12]\n"
     ]
    }
   ],
   "source": [
    "# tuples don't have sort func\n",
    "# instead they use sorted fn\n",
    "\n",
    "print(sorted(a))"
   ]
  },
  {
   "cell_type": "code",
   "execution_count": 82,
   "id": "bda6be7a",
   "metadata": {},
   "outputs": [
    {
     "data": {
      "text/plain": [
       "(10, 4, 12, 9)"
      ]
     },
     "execution_count": 82,
     "metadata": {},
     "output_type": "execute_result"
    }
   ],
   "source": [
    "a"
   ]
  },
  {
   "cell_type": "code",
   "execution_count": 85,
   "id": "ee5acc22",
   "metadata": {},
   "outputs": [
    {
     "name": "stdout",
     "output_type": "stream",
     "text": [
      "[12, 10, 9, 4]\n"
     ]
    }
   ],
   "source": [
    "print(sorted(a, reverse = True))"
   ]
  },
  {
   "cell_type": "code",
   "execution_count": 86,
   "id": "707f7534",
   "metadata": {},
   "outputs": [
    {
     "data": {
      "text/plain": [
       "12"
      ]
     },
     "execution_count": 86,
     "metadata": {},
     "output_type": "execute_result"
    }
   ],
   "source": [
    "max(a)"
   ]
  },
  {
   "cell_type": "code",
   "execution_count": 87,
   "id": "31bc4bc1",
   "metadata": {},
   "outputs": [
    {
     "data": {
      "text/plain": [
       "4"
      ]
     },
     "execution_count": 87,
     "metadata": {},
     "output_type": "execute_result"
    }
   ],
   "source": [
    "min(a)"
   ]
  },
  {
   "cell_type": "code",
   "execution_count": 88,
   "id": "79f410aa",
   "metadata": {},
   "outputs": [
    {
     "data": {
      "text/plain": [
       "35"
      ]
     },
     "execution_count": 88,
     "metadata": {},
     "output_type": "execute_result"
    }
   ],
   "source": [
    "sum(a)"
   ]
  },
  {
   "cell_type": "code",
   "execution_count": 89,
   "id": "c08f0b6d",
   "metadata": {},
   "outputs": [
    {
     "ename": "NameError",
     "evalue": "name 'avg' is not defined",
     "output_type": "error",
     "traceback": [
      "\u001b[1;31m---------------------------------------------------------------------------\u001b[0m",
      "\u001b[1;31mNameError\u001b[0m                                 Traceback (most recent call last)",
      "\u001b[1;32m<ipython-input-89-dfd83a7fda49>\u001b[0m in \u001b[0;36m<module>\u001b[1;34m\u001b[0m\n\u001b[1;32m----> 1\u001b[1;33m \u001b[0mavg\u001b[0m\u001b[1;33m(\u001b[0m\u001b[0ma\u001b[0m\u001b[1;33m)\u001b[0m\u001b[1;33m\u001b[0m\u001b[1;33m\u001b[0m\u001b[0m\n\u001b[0m",
      "\u001b[1;31mNameError\u001b[0m: name 'avg' is not defined"
     ]
    }
   ],
   "source": [
    "avg(a)"
   ]
  },
  {
   "cell_type": "code",
   "execution_count": 90,
   "id": "ccd684aa",
   "metadata": {},
   "outputs": [],
   "source": [
    "# max, min, sum fns are aplicable to tuples"
   ]
  },
  {
   "cell_type": "code",
   "execution_count": 91,
   "id": "d513dc65",
   "metadata": {},
   "outputs": [
    {
     "ename": "TypeError",
     "evalue": "'>' not supported between instances of 'str' and 'float'",
     "output_type": "error",
     "traceback": [
      "\u001b[1;31m---------------------------------------------------------------------------\u001b[0m",
      "\u001b[1;31mTypeError\u001b[0m                                 Traceback (most recent call last)",
      "\u001b[1;32m<ipython-input-91-0169cb5b4ba5>\u001b[0m in \u001b[0;36m<module>\u001b[1;34m\u001b[0m\n\u001b[0;32m      1\u001b[0m \u001b[0mb\u001b[0m \u001b[1;33m=\u001b[0m \u001b[1;36m1\u001b[0m\u001b[1;33m,\u001b[0m \u001b[1;36m1.5\u001b[0m \u001b[1;33m,\u001b[0m \u001b[1;34m'a'\u001b[0m\u001b[1;33m,\u001b[0m \u001b[1;34m'hello'\u001b[0m\u001b[1;33m,\u001b[0m \u001b[1;32mTrue\u001b[0m\u001b[1;33m,\u001b[0m \u001b[1;36m3\u001b[0m\u001b[1;33m+\u001b[0m\u001b[1;36m2j\u001b[0m\u001b[1;33m\u001b[0m\u001b[1;33m\u001b[0m\u001b[0m\n\u001b[1;32m----> 2\u001b[1;33m \u001b[0mmax\u001b[0m\u001b[1;33m(\u001b[0m\u001b[0mb\u001b[0m\u001b[1;33m)\u001b[0m\u001b[1;33m\u001b[0m\u001b[1;33m\u001b[0m\u001b[0m\n\u001b[0m",
      "\u001b[1;31mTypeError\u001b[0m: '>' not supported between instances of 'str' and 'float'"
     ]
    }
   ],
   "source": [
    "b = 1, 1.5 , 'a', 'hello', True, 3+2j\n",
    "max(b)"
   ]
  },
  {
   "cell_type": "code",
   "execution_count": 92,
   "id": "827afc29",
   "metadata": {},
   "outputs": [
    {
     "ename": "TypeError",
     "evalue": "'<' not supported between instances of 'str' and 'int'",
     "output_type": "error",
     "traceback": [
      "\u001b[1;31m---------------------------------------------------------------------------\u001b[0m",
      "\u001b[1;31mTypeError\u001b[0m                                 Traceback (most recent call last)",
      "\u001b[1;32m<ipython-input-92-cac4e6cca3ae>\u001b[0m in \u001b[0;36m<module>\u001b[1;34m\u001b[0m\n\u001b[1;32m----> 1\u001b[1;33m \u001b[0mmin\u001b[0m\u001b[1;33m(\u001b[0m\u001b[0mb\u001b[0m\u001b[1;33m)\u001b[0m\u001b[1;33m\u001b[0m\u001b[1;33m\u001b[0m\u001b[0m\n\u001b[0m",
      "\u001b[1;31mTypeError\u001b[0m: '<' not supported between instances of 'str' and 'int'"
     ]
    }
   ],
   "source": [
    "min(b)"
   ]
  },
  {
   "cell_type": "code",
   "execution_count": 93,
   "id": "d64a12d5",
   "metadata": {},
   "outputs": [
    {
     "ename": "NameError",
     "evalue": "name 'sort' is not defined",
     "output_type": "error",
     "traceback": [
      "\u001b[1;31m---------------------------------------------------------------------------\u001b[0m",
      "\u001b[1;31mNameError\u001b[0m                                 Traceback (most recent call last)",
      "\u001b[1;32m<ipython-input-93-ba62e9ba783c>\u001b[0m in \u001b[0;36m<module>\u001b[1;34m\u001b[0m\n\u001b[1;32m----> 1\u001b[1;33m \u001b[0msort\u001b[0m\u001b[1;33m(\u001b[0m\u001b[0mb\u001b[0m\u001b[1;33m)\u001b[0m\u001b[1;33m\u001b[0m\u001b[1;33m\u001b[0m\u001b[0m\n\u001b[0m",
      "\u001b[1;31mNameError\u001b[0m: name 'sort' is not defined"
     ]
    }
   ],
   "source": [
    "sort(b)"
   ]
  },
  {
   "cell_type": "code",
   "execution_count": 94,
   "id": "f8013c28",
   "metadata": {},
   "outputs": [
    {
     "ename": "TypeError",
     "evalue": "unsupported operand type(s) for +: 'float' and 'str'",
     "output_type": "error",
     "traceback": [
      "\u001b[1;31m---------------------------------------------------------------------------\u001b[0m",
      "\u001b[1;31mTypeError\u001b[0m                                 Traceback (most recent call last)",
      "\u001b[1;32m<ipython-input-94-bcf8a5bf121a>\u001b[0m in \u001b[0;36m<module>\u001b[1;34m\u001b[0m\n\u001b[1;32m----> 1\u001b[1;33m \u001b[0msum\u001b[0m\u001b[1;33m(\u001b[0m\u001b[0mb\u001b[0m\u001b[1;33m)\u001b[0m\u001b[1;33m\u001b[0m\u001b[1;33m\u001b[0m\u001b[0m\n\u001b[0m",
      "\u001b[1;31mTypeError\u001b[0m: unsupported operand type(s) for +: 'float' and 'str'"
     ]
    }
   ],
   "source": [
    "sum(b)"
   ]
  },
  {
   "cell_type": "code",
   "execution_count": 95,
   "id": "f0652648",
   "metadata": {},
   "outputs": [],
   "source": [
    "# sum, max, min won't work if the tuple is heterogenous"
   ]
  },
  {
   "cell_type": "markdown",
   "id": "22b2f4f3",
   "metadata": {},
   "source": [
    "# SET"
   ]
  },
  {
   "cell_type": "code",
   "execution_count": 97,
   "id": "ad25b4cb",
   "metadata": {},
   "outputs": [],
   "source": [
    "\n",
    "# Set doesn't allow duplicates\n",
    "# Heterogenous \n",
    "# Mutable -----> Add, Delete element\n",
    "#                but indexing isn't possible \n",
    "# You can't access set elements by index\n"
   ]
  },
  {
   "cell_type": "markdown",
   "id": "68be3ead",
   "metadata": {},
   "source": [
    "# Dictionary "
   ]
  },
  {
   "cell_type": "code",
   "execution_count": 98,
   "id": "08f6961d",
   "metadata": {},
   "outputs": [],
   "source": [
    "# Key value pair\n",
    "# mutable\n",
    "books = {'Harry Potter: Prisoner of Azkaban': 5,\n",
    "         'Secret of Nagas': 10, 'Two states': 13,\n",
    "         'Da Vinci Code': 6}\n",
    "\n",
    "\n",
    "books['Harry Potter: The Half Blood Prince'] = 4"
   ]
  },
  {
   "cell_type": "code",
   "execution_count": 99,
   "id": "bc41f74c",
   "metadata": {},
   "outputs": [
    {
     "data": {
      "text/plain": [
       "{'Harry Potter: Prisoner of Azkaban': 5,\n",
       " 'Secret of Nagas': 10,\n",
       " 'Two states': 13,\n",
       " 'Da Vinci Code': 6,\n",
       " 'Harry Potter: The Half Blood Prince': 4}"
      ]
     },
     "execution_count": 99,
     "metadata": {},
     "output_type": "execute_result"
    }
   ],
   "source": [
    "books"
   ]
  },
  {
   "cell_type": "code",
   "execution_count": 100,
   "id": "2529311a",
   "metadata": {},
   "outputs": [
    {
     "ename": "SyntaxError",
     "evalue": "cannot delete literal (<ipython-input-100-e817fa975a14>, line 1)",
     "output_type": "error",
     "traceback": [
      "\u001b[1;36m  File \u001b[1;32m\"<ipython-input-100-e817fa975a14>\"\u001b[1;36m, line \u001b[1;32m1\u001b[0m\n\u001b[1;33m    del ['Two states']\u001b[0m\n\u001b[1;37m        ^\u001b[0m\n\u001b[1;31mSyntaxError\u001b[0m\u001b[1;31m:\u001b[0m cannot delete literal\n"
     ]
    }
   ],
   "source": [
    "del ['Two states']"
   ]
  },
  {
   "cell_type": "code",
   "execution_count": 101,
   "id": "d407e0cf",
   "metadata": {},
   "outputs": [],
   "source": [
    "del books ['Two states']\n"
   ]
  },
  {
   "cell_type": "code",
   "execution_count": 102,
   "id": "978adb41",
   "metadata": {},
   "outputs": [
    {
     "data": {
      "text/plain": [
       "{'Harry Potter: Prisoner of Azkaban': 5,\n",
       " 'Secret of Nagas': 10,\n",
       " 'Da Vinci Code': 6,\n",
       " 'Harry Potter: The Half Blood Prince': 4}"
      ]
     },
     "execution_count": 102,
     "metadata": {},
     "output_type": "execute_result"
    }
   ],
   "source": [
    "books"
   ]
  },
  {
   "cell_type": "markdown",
   "id": "eebe75b8",
   "metadata": {},
   "source": [
    "### word count program\n",
    "\n"
   ]
  },
  {
   "cell_type": "code",
   "execution_count": 105,
   "id": "da6ca6da",
   "metadata": {},
   "outputs": [],
   "source": [
    "sentence = 'I eat chocolates every day day day day'\n",
    "w_c = {}\n",
    "\n",
    "for word in sentence.split():\n",
    "    if word in w_c:\n",
    "        w_c[word]+=1\n",
    "    else:\n",
    "        w_c[word] = 1\n",
    "    "
   ]
  },
  {
   "cell_type": "code",
   "execution_count": 106,
   "id": "e1aeb6d2",
   "metadata": {},
   "outputs": [
    {
     "name": "stdout",
     "output_type": "stream",
     "text": [
      "{'I': 1, 'eat': 1, 'chocolates': 1, 'every': 1, 'day': 4}\n"
     ]
    }
   ],
   "source": [
    "print(w_c)"
   ]
  },
  {
   "cell_type": "code",
   "execution_count": 112,
   "id": "bbf4f205",
   "metadata": {},
   "outputs": [
    {
     "name": "stdout",
     "output_type": "stream",
     "text": [
      "defaultdict(<class 'int'>, {'I': 1, 'eat': 1, 'chocolates': 1, 'everyday': 1, 'without': 1, 'fail': 1})\n"
     ]
    }
   ],
   "source": [
    "# alternatively we can use defaultdict() \n",
    "# in order to avoid the error of uninitalized values we use dafaultdict()\n",
    "\n",
    "\n",
    "from collections import defaultdict\n",
    "\n",
    "sentence = 'I eat chocolates everyday without fail'\n",
    "w_c = defaultdict(int)\n",
    "\n",
    "for word in sentence.split(): \n",
    "    w_c[word] += 1  \n",
    "\n",
    "print(w_c)\n"
   ]
  },
  {
   "cell_type": "code",
   "execution_count": 113,
   "id": "1474098c",
   "metadata": {},
   "outputs": [],
   "source": [
    "# shallow copy of dictionary can be created\n",
    "\n",
    "w_c_1 = w_c.copy()"
   ]
  },
  {
   "cell_type": "code",
   "execution_count": 114,
   "id": "fb4675fb",
   "metadata": {},
   "outputs": [
    {
     "data": {
      "text/plain": [
       "defaultdict(int,\n",
       "            {'I': 1,\n",
       "             'eat': 1,\n",
       "             'chocolates': 1,\n",
       "             'everyday': 1,\n",
       "             'without': 1,\n",
       "             'fail': 1})"
      ]
     },
     "execution_count": 114,
     "metadata": {},
     "output_type": "execute_result"
    }
   ],
   "source": [
    "w_c_1"
   ]
  },
  {
   "cell_type": "code",
   "execution_count": 115,
   "id": "0a13339d",
   "metadata": {},
   "outputs": [
    {
     "data": {
      "text/plain": [
       "dict_values([1, 1, 1, 1, 1, 1])"
      ]
     },
     "execution_count": 115,
     "metadata": {},
     "output_type": "execute_result"
    }
   ],
   "source": [
    "w_c_1.values()"
   ]
  },
  {
   "cell_type": "code",
   "execution_count": 117,
   "id": "d4143726",
   "metadata": {},
   "outputs": [
    {
     "data": {
      "text/plain": [
       "dict_keys(['I', 'eat', 'chocolates', 'everyday', 'without', 'fail'])"
      ]
     },
     "execution_count": 117,
     "metadata": {},
     "output_type": "execute_result"
    }
   ],
   "source": [
    "w_c_1.keys()"
   ]
  },
  {
   "cell_type": "code",
   "execution_count": 118,
   "id": "50c3726a",
   "metadata": {},
   "outputs": [],
   "source": [
    "# taking keys from tuple\n",
    "t = 1,2,3,4,5\n",
    "dict1 = dict.fromkeys(t)"
   ]
  },
  {
   "cell_type": "code",
   "execution_count": 119,
   "id": "e27b4810",
   "metadata": {},
   "outputs": [
    {
     "data": {
      "text/plain": [
       "{1: None, 2: None, 3: None, 4: None, 5: None}"
      ]
     },
     "execution_count": 119,
     "metadata": {},
     "output_type": "execute_result"
    }
   ],
   "source": [
    "dict1"
   ]
  },
  {
   "cell_type": "code",
   "execution_count": 121,
   "id": "853da289",
   "metadata": {},
   "outputs": [],
   "source": [
    "# setting a default value\n",
    "t2 = 4,5,6,7\n",
    "dict1= dict.fromkeys(t2,8)"
   ]
  },
  {
   "cell_type": "code",
   "execution_count": 122,
   "id": "8070c38e",
   "metadata": {},
   "outputs": [
    {
     "data": {
      "text/plain": [
       "{4: 8, 5: 8, 6: 8, 7: 8}"
      ]
     },
     "execution_count": 122,
     "metadata": {},
     "output_type": "execute_result"
    }
   ],
   "source": [
    "dict1"
   ]
  },
  {
   "cell_type": "code",
   "execution_count": 124,
   "id": "fe3db494",
   "metadata": {},
   "outputs": [
    {
     "ename": "KeyError",
     "evalue": "0",
     "output_type": "error",
     "traceback": [
      "\u001b[1;31m---------------------------------------------------------------------------\u001b[0m",
      "\u001b[1;31mKeyError\u001b[0m                                  Traceback (most recent call last)",
      "\u001b[1;32m<ipython-input-124-90e2046cfae3>\u001b[0m in \u001b[0;36m<module>\u001b[1;34m\u001b[0m\n\u001b[1;32m----> 1\u001b[1;33m \u001b[0mdict1\u001b[0m\u001b[1;33m[\u001b[0m\u001b[1;36m0\u001b[0m\u001b[1;33m]\u001b[0m\u001b[1;33m\u001b[0m\u001b[1;33m\u001b[0m\u001b[0m\n\u001b[0m",
      "\u001b[1;31mKeyError\u001b[0m: 0"
     ]
    }
   ],
   "source": [
    "dict1[0]"
   ]
  },
  {
   "cell_type": "markdown",
   "id": "97276901",
   "metadata": {},
   "source": [
    "# LIST COMPREHENSION"
   ]
  },
  {
   "cell_type": "code",
   "execution_count": 129,
   "id": "0f1b1cbe",
   "metadata": {},
   "outputs": [],
   "source": [
    "# to find strings which are longer than 9\n",
    "prd = ['apparels','crockeris','cosmetics','beverages','detergents']\n",
    "res = [x for x in prd if len(x)>9]"
   ]
  },
  {
   "cell_type": "code",
   "execution_count": 131,
   "id": "5e967014",
   "metadata": {},
   "outputs": [
    {
     "data": {
      "text/plain": [
       "['detergents']"
      ]
     },
     "execution_count": 131,
     "metadata": {},
     "output_type": "execute_result"
    }
   ],
   "source": [
    "res"
   ]
  },
  {
   "cell_type": "code",
   "execution_count": 130,
   "id": "27105a0a",
   "metadata": {},
   "outputs": [
    {
     "name": "stdout",
     "output_type": "stream",
     "text": [
      "[1, 4, 9, 16, 25, 36, 49, 64, 81, 100, 121, 144, 169, 196, 225, 256, 289, 324, 361, 400, 441, 484, 529, 576, 625, 676, 729, 784, 841, 900, 961, 1024, 1089, 1156, 1225, 1296, 1369, 1444, 1521, 1600, 1681, 1764, 1849, 1936, 2025, 2116, 2209, 2304, 2401, 2500, 2601, 2704, 2809, 2916, 3025, 3136, 3249, 3364, 3481, 3600, 3721, 3844, 3969, 4096, 4225, 4356, 4489, 4624, 4761, 4900, 5041, 5184, 5329, 5476, 5625, 5776, 5929, 6084, 6241, 6400, 6561, 6724, 6889, 7056, 7225, 7396, 7569, 7744, 7921, 8100, 8281, 8464, 8649, 8836, 9025, 9216, 9409, 9604, 9801, 10000]\n"
     ]
    }
   ],
   "source": [
    "#finding the square of numbers between 1 to 100\n",
    "sq_num_series = [i*i for i in range(1,101)]\n",
    "print(sq_num_series)"
   ]
  },
  {
   "cell_type": "code",
   "execution_count": 132,
   "id": "a9b0f1ad",
   "metadata": {},
   "outputs": [],
   "source": [
    "# to print the first letter of each element in a list\n",
    "list_a = ['jackson','Peter','Novia','Tom']\n",
    "n_list = [v[0] for v in list_a]"
   ]
  },
  {
   "cell_type": "code",
   "execution_count": 133,
   "id": "bc672510",
   "metadata": {},
   "outputs": [
    {
     "data": {
      "text/plain": [
       "['j', 'P', 'N', 'T']"
      ]
     },
     "execution_count": 133,
     "metadata": {},
     "output_type": "execute_result"
    }
   ],
   "source": [
    "n_list"
   ]
  },
  {
   "cell_type": "code",
   "execution_count": null,
   "id": "ccaeb62c",
   "metadata": {},
   "outputs": [],
   "source": []
  }
 ],
 "metadata": {
  "kernelspec": {
   "display_name": "Python 3",
   "language": "python",
   "name": "python3"
  },
  "language_info": {
   "codemirror_mode": {
    "name": "ipython",
    "version": 3
   },
   "file_extension": ".py",
   "mimetype": "text/x-python",
   "name": "python",
   "nbconvert_exporter": "python",
   "pygments_lexer": "ipython3",
   "version": "3.8.8"
  }
 },
 "nbformat": 4,
 "nbformat_minor": 5
}
