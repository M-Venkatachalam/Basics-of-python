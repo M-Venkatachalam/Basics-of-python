{
 "cells": [
  {
   "cell_type": "markdown",
   "id": "6cbc202c",
   "metadata": {},
   "source": [
    "# a function is a block of reusable code that runs when called"
   ]
  },
  {
   "cell_type": "code",
   "execution_count": 3,
   "id": "9c2610ce",
   "metadata": {},
   "outputs": [
    {
     "data": {
      "text/plain": [
       "100"
      ]
     },
     "execution_count": 3,
     "metadata": {},
     "output_type": "execute_result"
    }
   ],
   "source": [
    "sum([75,4,12],9)"
   ]
  },
  {
   "cell_type": "code",
   "execution_count": 4,
   "id": "ff6c42b6",
   "metadata": {},
   "outputs": [
    {
     "name": "stdout",
     "output_type": "stream",
     "text": [
      "hello world !\n"
     ]
    }
   ],
   "source": [
    "print('hello','world','!')"
   ]
  },
  {
   "cell_type": "code",
   "execution_count": 5,
   "id": "752be10c",
   "metadata": {},
   "outputs": [
    {
     "name": "stdout",
     "output_type": "stream",
     "text": [
      "7.8\n"
     ]
    }
   ],
   "source": [
    "print(7.8)"
   ]
  },
  {
   "cell_type": "code",
   "execution_count": 14,
   "id": "cebf1512",
   "metadata": {},
   "outputs": [
    {
     "name": "stdout",
     "output_type": "stream",
     "text": [
      "I am curious\n",
      "to learn data science\n",
      "soon\n"
     ]
    }
   ],
   "source": [
    "print('I am curious', 'to learn data science','soon', sep=\"\\n\")"
   ]
  },
  {
   "cell_type": "code",
   "execution_count": 15,
   "id": "7fc1d984",
   "metadata": {},
   "outputs": [
    {
     "name": "stdout",
     "output_type": "stream",
     "text": [
      "I am curious\tto learn data science\tsoon\n"
     ]
    }
   ],
   "source": [
    "print('I am curious', 'to learn data science','soon', sep=\"\\t\")"
   ]
  },
  {
   "cell_type": "code",
   "execution_count": 16,
   "id": "c3566662",
   "metadata": {},
   "outputs": [
    {
     "name": "stdout",
     "output_type": "stream",
     "text": [
      "I am curious,to learn data science,soon\n"
     ]
    }
   ],
   "source": [
    "print('I am curious', 'to learn data science','soon', sep=\",\")"
   ]
  },
  {
   "cell_type": "code",
   "execution_count": 17,
   "id": "ae98f9ea",
   "metadata": {},
   "outputs": [
    {
     "name": "stdout",
     "output_type": "stream",
     "text": [
      "I am curious\f",
      "to learn data science\f",
      "soon\n"
     ]
    }
   ],
   "source": [
    "print('I am curious', 'to learn data science','soon', sep=\"\\f\")"
   ]
  },
  {
   "cell_type": "code",
   "execution_count": 18,
   "id": "ede2e877",
   "metadata": {},
   "outputs": [],
   "source": [
    "# Hi this is Aaakash\"s car"
   ]
  },
  {
   "cell_type": "code",
   "execution_count": 19,
   "id": "8a386cb5",
   "metadata": {},
   "outputs": [
    {
     "name": "stdout",
     "output_type": "stream",
     "text": [
      "Hi, this is Aaakash\"s car\n"
     ]
    }
   ],
   "source": [
    "print('Hi, this is Aaakash\\\"s car')"
   ]
  },
  {
   "cell_type": "code",
   "execution_count": 20,
   "id": "adcb5871",
   "metadata": {},
   "outputs": [
    {
     "ename": "SyntaxError",
     "evalue": "invalid syntax (<ipython-input-20-77c8ffb7272a>, line 1)",
     "output_type": "error",
     "traceback": [
      "\u001b[1;36m  File \u001b[1;32m\"<ipython-input-20-77c8ffb7272a>\"\u001b[1;36m, line \u001b[1;32m1\u001b[0m\n\u001b[1;33m    print(\"Hi, this is Aakash\"s car\")\u001b[0m\n\u001b[1;37m                              ^\u001b[0m\n\u001b[1;31mSyntaxError\u001b[0m\u001b[1;31m:\u001b[0m invalid syntax\n"
     ]
    }
   ],
   "source": [
    "print(\"Hi, this is Aakash\"s car\")"
   ]
  },
  {
   "cell_type": "code",
   "execution_count": 21,
   "id": "2f50ca33",
   "metadata": {},
   "outputs": [
    {
     "name": "stdout",
     "output_type": "stream",
     "text": [
      "pot hot got'\n"
     ]
    }
   ],
   "source": [
    "print(\"pot hot got'\")"
   ]
  },
  {
   "cell_type": "code",
   "execution_count": 22,
   "id": "ebe892fa",
   "metadata": {},
   "outputs": [
    {
     "name": "stdout",
     "output_type": "stream",
     "text": [
      "venkatneedsrest\n"
     ]
    }
   ],
   "source": [
    "print(\"venkat\"+\"needs\"+\"rest\")"
   ]
  },
  {
   "cell_type": "code",
   "execution_count": 23,
   "id": "f7eb9bbb",
   "metadata": {},
   "outputs": [
    {
     "ename": "TypeError",
     "evalue": "can only concatenate str (not \"int\") to str",
     "output_type": "error",
     "traceback": [
      "\u001b[1;31m---------------------------------------------------------------------------\u001b[0m",
      "\u001b[1;31mTypeError\u001b[0m                                 Traceback (most recent call last)",
      "\u001b[1;32m<ipython-input-23-864530cacea4>\u001b[0m in \u001b[0;36m<module>\u001b[1;34m\u001b[0m\n\u001b[1;32m----> 1\u001b[1;33m \u001b[0mprint\u001b[0m\u001b[1;33m(\u001b[0m\u001b[1;34m'five'\u001b[0m\u001b[1;33m+\u001b[0m\u001b[1;36m5\u001b[0m\u001b[1;33m)\u001b[0m\u001b[1;33m\u001b[0m\u001b[1;33m\u001b[0m\u001b[0m\n\u001b[0m",
      "\u001b[1;31mTypeError\u001b[0m: can only concatenate str (not \"int\") to str"
     ]
    }
   ],
   "source": [
    "print('five'+5)"
   ]
  },
  {
   "cell_type": "code",
   "execution_count": 24,
   "id": "b14daf96",
   "metadata": {},
   "outputs": [
    {
     "name": "stdout",
     "output_type": "stream",
     "text": [
      "five5\n"
     ]
    }
   ],
   "source": [
    "print('five'+str(5))"
   ]
  },
  {
   "cell_type": "code",
   "execution_count": null,
   "id": "8fe77ce5",
   "metadata": {},
   "outputs": [],
   "source": []
  }
 ],
 "metadata": {
  "kernelspec": {
   "display_name": "Python 3",
   "language": "python",
   "name": "python3"
  },
  "language_info": {
   "codemirror_mode": {
    "name": "ipython",
    "version": 3
   },
   "file_extension": ".py",
   "mimetype": "text/x-python",
   "name": "python",
   "nbconvert_exporter": "python",
   "pygments_lexer": "ipython3",
   "version": "3.8.8"
  }
 },
 "nbformat": 4,
 "nbformat_minor": 5
}
