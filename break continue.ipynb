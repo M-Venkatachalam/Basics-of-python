{
 "cells": [
  {
   "cell_type": "code",
   "execution_count": 5,
   "id": "fca925d8",
   "metadata": {
    "collapsed": true
   },
   "outputs": [
    {
     "name": "stdout",
     "output_type": "stream",
     "text": [
      "enter number of levels5\n",
      "1 \n",
      "\n",
      "2 2 \n",
      "\n",
      "3 3 3 \n",
      "\n",
      "4 4 4 4 \n",
      "\n",
      "5 5 5 5 5 \n",
      "\n"
     ]
    }
   ],
   "source": [
    "levels = int(input(\"enter number of levels\"))\n",
    "for level in range(1,levels+1):\n",
    "    for num in range(level):\n",
    "        print(level, end=\" \")\n",
    "    print(\"\\n\")   \n",
    "    "
   ]
  },
  {
   "cell_type": "code",
   "execution_count": 8,
   "id": "4020327e",
   "metadata": {},
   "outputs": [
    {
     "name": "stdout",
     "output_type": "stream",
     "text": [
      "k\n",
      "n\n",
      "o\n",
      "w\n",
      "l\n",
      "e\n",
      "d\n",
      "g\n",
      "e\n",
      "the loop skipped a space here\n",
      "h\n",
      "u\n",
      "t\n"
     ]
    }
   ],
   "source": [
    "text = 'knowledge hut'\n",
    "for letter in text:\n",
    "    if letter ==' ':\n",
    "        print('the loop skipped a space here')\n",
    "        continue\n",
    "        \n",
    "    print(letter)\n",
    "        "
   ]
  },
  {
   "cell_type": "code",
   "execution_count": 9,
   "id": "856d7c56",
   "metadata": {},
   "outputs": [
    {
     "name": "stdout",
     "output_type": "stream",
     "text": [
      "k\n",
      "n\n",
      "o\n",
      "w\n",
      "l\n",
      "e\n",
      "d\n",
      "g\n",
      "e\n",
      "the for loop stopped executing\n"
     ]
    }
   ],
   "source": [
    "text = 'knowledgehut'\n",
    "for letter in text:\n",
    "    if letter =='h':\n",
    "        break\n",
    "    print(letter)\n",
    "    \n",
    "print('the for loop stopped executing')\n",
    "    "
   ]
  },
  {
   "cell_type": "code",
   "execution_count": null,
   "id": "f23d2684",
   "metadata": {},
   "outputs": [],
   "source": []
  }
 ],
 "metadata": {
  "kernelspec": {
   "display_name": "Python 3",
   "language": "python",
   "name": "python3"
  },
  "language_info": {
   "codemirror_mode": {
    "name": "ipython",
    "version": 3
   },
   "file_extension": ".py",
   "mimetype": "text/x-python",
   "name": "python",
   "nbconvert_exporter": "python",
   "pygments_lexer": "ipython3",
   "version": "3.8.8"
  }
 },
 "nbformat": 4,
 "nbformat_minor": 5
}
