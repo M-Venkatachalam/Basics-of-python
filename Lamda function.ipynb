{
 "cells": [
  {
   "cell_type": "markdown",
   "id": "7cb598cd",
   "metadata": {},
   "source": [
    "# Lamda Function "
   ]
  },
  {
   "cell_type": "code",
   "execution_count": 1,
   "id": "85cdf272",
   "metadata": {},
   "outputs": [
    {
     "data": {
      "text/plain": [
       "21"
      ]
     },
     "execution_count": 1,
     "metadata": {},
     "output_type": "execute_result"
    }
   ],
   "source": [
    "greater = lambda num1, num2: num1 if num1>num2 else num 2\n",
    "greater(20,21)"
   ]
  },
  {
   "cell_type": "markdown",
   "id": "a635ce13",
   "metadata": {},
   "source": [
    "## Lambda function --> 1)map 2)filter 3)remove\n",
    "\n",
    "### 1) MAP"
   ]
  },
  {
   "cell_type": "code",
   "execution_count": 3,
   "id": "b9c32dd4",
   "metadata": {},
   "outputs": [
    {
     "data": {
      "text/plain": [
       "[1, 4, 9, 16, 25, 36, 49, 64, 81, 100]"
      ]
     },
     "execution_count": 3,
     "metadata": {},
     "output_type": "execute_result"
    }
   ],
   "source": [
    "num_list = list(range(1,11))\n",
    "sq_list = list(map(lambda x: x**2, num_list))\n",
    "sq_list"
   ]
  },
  {
   "cell_type": "markdown",
   "id": "afcab8cc",
   "metadata": {},
   "source": [
    "### 2) FILTER"
   ]
  },
  {
   "cell_type": "code",
   "execution_count": 7,
   "id": "587c0fd1",
   "metadata": {},
   "outputs": [
    {
     "data": {
      "text/plain": [
       "[5, 10]"
      ]
     },
     "execution_count": 7,
     "metadata": {},
     "output_type": "execute_result"
    }
   ],
   "source": [
    "num_list = list(range(1,11))\n",
    "sq_list = list(filter(lambda x: x%5==0, num_list))\n",
    "sq_list"
   ]
  },
  {
   "cell_type": "markdown",
   "id": "443075f3",
   "metadata": {},
   "source": [
    "### 3)REDUCE"
   ]
  },
  {
   "cell_type": "code",
   "execution_count": 9,
   "id": "dde3fc64",
   "metadata": {},
   "outputs": [
    {
     "data": {
      "text/plain": [
       "15"
      ]
     },
     "execution_count": 9,
     "metadata": {},
     "output_type": "execute_result"
    }
   ],
   "source": [
    "# factorial of a number - product of the elements\n",
    "from functools import reduce\n",
    "num_list = [1,2,3,4,5]\n",
    "reduce(lambda a,b: a*b, num_list)"
   ]
  },
  {
   "cell_type": "code",
   "execution_count": 10,
   "id": "7b8ac115",
   "metadata": {},
   "outputs": [
    {
     "data": {
      "text/plain": [
       "1"
      ]
     },
     "execution_count": 10,
     "metadata": {},
     "output_type": "execute_result"
    }
   ],
   "source": [
    "# to find the minimum number in the list\n",
    "reduce(lambda x,y: x if (x<y) else y, num_list)"
   ]
  },
  {
   "cell_type": "code",
   "execution_count": 11,
   "id": "5e54fe9a",
   "metadata": {},
   "outputs": [
    {
     "name": "stdout",
     "output_type": "stream",
     "text": [
      "15\n"
     ]
    }
   ],
   "source": [
    "x = lambda a : a + 10\n",
    "print(x(5))"
   ]
  },
  {
   "cell_type": "code",
   "execution_count": null,
   "id": "ac567738",
   "metadata": {},
   "outputs": [],
   "source": []
  }
 ],
 "metadata": {
  "kernelspec": {
   "display_name": "Python 3",
   "language": "python",
   "name": "python3"
  },
  "language_info": {
   "codemirror_mode": {
    "name": "ipython",
    "version": 3
   },
   "file_extension": ".py",
   "mimetype": "text/x-python",
   "name": "python",
   "nbconvert_exporter": "python",
   "pygments_lexer": "ipython3",
   "version": "3.8.8"
  }
 },
 "nbformat": 4,
 "nbformat_minor": 5
}
